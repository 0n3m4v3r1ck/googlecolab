{
  "nbformat": 4,
  "nbformat_minor": 0,
  "metadata": {
    "colab": {
      "name": "Untitled0.ipynb",
      "version": "0.3.2",
      "provenance": [],
      "include_colab_link": true
    },
    "kernelspec": {
      "name": "python3",
      "display_name": "Python 3"
    },
    "accelerator": "GPU"
  },
  "cells": [
    {
      "cell_type": "markdown",
      "metadata": {
        "id": "view-in-github",
        "colab_type": "text"
      },
      "source": [
        "<a href=\"https://colab.research.google.com/github/0n3m4v3r1ck/mygooglecolab/blob/master/Untitled0.ipynb\" target=\"_parent\"><img src=\"https://colab.research.google.com/assets/colab-badge.svg\" alt=\"Open In Colab\"/></a>"
      ]
    },
    {
      "cell_type": "markdown",
      "metadata": {
        "id": "-Wd7ja_Z79_3",
        "colab_type": "text"
      },
      "source": [
        "# Base 64"
      ]
    },
    {
      "cell_type": "code",
      "metadata": {
        "id": "zaB8Eo1f3HRA",
        "colab_type": "code",
        "colab": {}
      },
      "source": [
        "import sys"
      ],
      "execution_count": 0,
      "outputs": []
    },
    {
      "cell_type": "code",
      "metadata": {
        "id": "dHrFAmK043Hk",
        "colab_type": "code",
        "colab": {
          "base_uri": "https://localhost:8080/",
          "height": 34
        },
        "outputId": "dd0de728-0ae2-4d9e-b98a-d7f9db2f183a"
      },
      "source": [
        "sys.version_info"
      ],
      "execution_count": 2,
      "outputs": [
        {
          "output_type": "execute_result",
          "data": {
            "text/plain": [
              "sys.version_info(major=3, minor=6, micro=8, releaselevel='final', serial=0)"
            ]
          },
          "metadata": {
            "tags": []
          },
          "execution_count": 2
        }
      ]
    },
    {
      "cell_type": "code",
      "metadata": {
        "id": "qsn4pzm245tV",
        "colab_type": "code",
        "colab": {}
      },
      "source": [
        "import base64"
      ],
      "execution_count": 0,
      "outputs": []
    },
    {
      "cell_type": "code",
      "metadata": {
        "id": "kn7zvSll49Tp",
        "colab_type": "code",
        "colab": {}
      },
      "source": [
        "to_decode=bytes('HTB{Th1s_1s_Th3_s3cr3t}', 'utf-16')"
      ],
      "execution_count": 0,
      "outputs": []
    },
    {
      "cell_type": "code",
      "metadata": {
        "id": "LSppco7G5PMP",
        "colab_type": "code",
        "colab": {}
      },
      "source": [
        "to_decode=base64.b64encode(to_decode)"
      ],
      "execution_count": 0,
      "outputs": []
    },
    {
      "cell_type": "code",
      "metadata": {
        "id": "8m4FSrXZ5XQd",
        "colab_type": "code",
        "colab": {}
      },
      "source": [
        "to_decode=base64.b64encode(to_decode)"
      ],
      "execution_count": 0,
      "outputs": []
    },
    {
      "cell_type": "code",
      "metadata": {
        "id": "9gVszApZ5ZcM",
        "colab_type": "code",
        "colab": {
          "base_uri": "https://localhost:8080/",
          "height": 34
        },
        "outputId": "61388ffc-3e5e-45b2-f9dc-182fc90c8c11"
      },
      "source": [
        "to_decode"
      ],
      "execution_count": 17,
      "outputs": [
        {
          "output_type": "execute_result",
          "data": {
            "text/plain": [
              "b'Ly81SUFGUUFRZ0I3QUZRQWFBQXhBSE1BWHdBeEFITUFYd0JVQUdnQU13QmZBSE1BTXdCakFISUFNd0IwQUgwQQ=='"
            ]
          },
          "metadata": {
            "tags": []
          },
          "execution_count": 17
        }
      ]
    },
    {
      "cell_type": "code",
      "metadata": {
        "id": "nuc2W6gA5fdP",
        "colab_type": "code",
        "colab": {}
      },
      "source": [
        "to_decode=base64.b64decode(to_decode)"
      ],
      "execution_count": 0,
      "outputs": []
    },
    {
      "cell_type": "code",
      "metadata": {
        "id": "PCVTHPGp8PVy",
        "colab_type": "code",
        "colab": {
          "base_uri": "https://localhost:8080/",
          "height": 34
        },
        "outputId": "fa595214-08c4-4da9-b9cd-41cf9c113420"
      },
      "source": [
        "to_decode"
      ],
      "execution_count": 19,
      "outputs": [
        {
          "output_type": "execute_result",
          "data": {
            "text/plain": [
              "b'//5IAFQAQgB7AFQAaAAxAHMAXwAxAHMAXwBUAGgAMwBfAHMAMwBjAHIAMwB0AH0A'"
            ]
          },
          "metadata": {
            "tags": []
          },
          "execution_count": 19
        }
      ]
    },
    {
      "cell_type": "code",
      "metadata": {
        "id": "42v2ta3p8RA1",
        "colab_type": "code",
        "colab": {}
      },
      "source": [
        "to_decode=base64.b64decode(to_decode)"
      ],
      "execution_count": 0,
      "outputs": []
    },
    {
      "cell_type": "code",
      "metadata": {
        "id": "WdrmLx4g8zOq",
        "colab_type": "code",
        "colab": {
          "base_uri": "https://localhost:8080/",
          "height": 34
        },
        "outputId": "d621e510-c2ef-4711-9a8c-840ab144a605"
      },
      "source": [
        "to_decode.decode(encoding='utf-16')"
      ],
      "execution_count": 27,
      "outputs": [
        {
          "output_type": "execute_result",
          "data": {
            "text/plain": [
              "'HTB{Th1s_1s_Th3_s3cr3t}'"
            ]
          },
          "metadata": {
            "tags": []
          },
          "execution_count": 27
        }
      ]
    },
    {
      "cell_type": "code",
      "metadata": {
        "id": "0D6lv8DO80um",
        "colab_type": "code",
        "colab": {}
      },
      "source": [
        ""
      ],
      "execution_count": 0,
      "outputs": []
    }
  ]
}